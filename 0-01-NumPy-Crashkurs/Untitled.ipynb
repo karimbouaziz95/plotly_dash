{
 "cells": [
  {
   "cell_type": "code",
   "execution_count": 2,
   "id": "3eb9f1de",
   "metadata": {},
   "outputs": [
    {
     "name": "stdout",
     "output_type": "stream",
     "text": [
      "[0 1 2 3 4]\n",
      "[0, 1, 2, 3, 4]\n",
      "<class 'numpy.ndarray'>\n"
     ]
    }
   ],
   "source": [
    "import numpy as np\n",
    "my_list = [0,1,2,3,4]\n",
    "arr = np.array(my_list)\n",
    "print(arr)\n",
    "print(my_list)\n",
    "print(type(arr))"
   ]
  },
  {
   "cell_type": "code",
   "execution_count": 11,
   "id": "4053e7de",
   "metadata": {},
   "outputs": [
    {
     "name": "stdout",
     "output_type": "stream",
     "text": [
      "30\n",
      "[ 0.          0.51724138  1.03448276  1.55172414  2.06896552  2.5862069\n",
      "  3.10344828  3.62068966  4.13793103  4.65517241  5.17241379  5.68965517\n",
      "  6.20689655  6.72413793  7.24137931  7.75862069  8.27586207  8.79310345\n",
      "  9.31034483  9.82758621 10.34482759 10.86206897 11.37931034 11.89655172\n",
      " 12.4137931  12.93103448 13.44827586 13.96551724 14.48275862 15.        ]\n"
     ]
    }
   ],
   "source": [
    "zby = np.linspace(0,15,30)\n",
    "print(len(zby))\n",
    "print(zby)"
   ]
  },
  {
   "cell_type": "code",
   "execution_count": null,
   "id": "4c6b266c",
   "metadata": {},
   "outputs": [],
   "source": []
  }
 ],
 "metadata": {
  "kernelspec": {
   "display_name": "Python 3",
   "language": "python",
   "name": "python3"
  },
  "language_info": {
   "codemirror_mode": {
    "name": "ipython",
    "version": 3
   },
   "file_extension": ".py",
   "mimetype": "text/x-python",
   "name": "python",
   "nbconvert_exporter": "python",
   "pygments_lexer": "ipython3",
   "version": "3.8.8"
  }
 },
 "nbformat": 4,
 "nbformat_minor": 5
}
